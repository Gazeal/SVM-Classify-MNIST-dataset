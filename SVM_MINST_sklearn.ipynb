{
 "cells": [
  {
   "cell_type": "code",
   "execution_count": 1,
   "metadata": {
    "collapsed": false
   },
   "outputs": [],
   "source": [
    "# Import neccessary module\n",
    "\n",
    "import numpy as np\n",
    "import cPickle\n",
    "import gzip\n",
    "import time\n",
    "import timeit\n",
    "\n",
    "from sklearn import svm\n",
    "from sklearn import metrics"
   ]
  },
  {
   "cell_type": "code",
   "execution_count": 2,
   "metadata": {
    "collapsed": false
   },
   "outputs": [],
   "source": [
    "# Read MNIST file\n",
    "\n",
    "def read_mnist(mnist_file):\n",
    "    \"\"\"\n",
    "    Reads MNIST data.\n",
    "    \n",
    "    Parameters\n",
    "    ----------\n",
    "    mnist_file : string\n",
    "        The name of the MNIST file (e.g., 'mnist.pkl.gz').\n",
    "    \n",
    "    Returns\n",
    "    -------\n",
    "    (train_X, train_Y, val_X, val_Y, test_X, test_Y) : tuple\n",
    "        train_X : numpy array, shape (N=50000, d=784)\n",
    "            Input vectors of the training set.\n",
    "        train_Y: numpy array, shape (N=50000)\n",
    "            Outputs of the training set.\n",
    "        val_X : numpy array, shape (N=10000, d=784)\n",
    "            Input vectors of the validation set.\n",
    "        val_Y: numpy array, shape (N=10000)\n",
    "            Outputs of the validation set.\n",
    "        test_X : numpy array, shape (N=10000, d=784)\n",
    "            Input vectors of the test set.\n",
    "        test_Y: numpy array, shape (N=10000)\n",
    "            Outputs of the test set.\n",
    "    \"\"\"\n",
    "    f = gzip.open(mnist_file, 'rb')\n",
    "    train_data, val_data, test_data = cPickle.load(f)\n",
    "    f.close()\n",
    "    \n",
    "    train_X, train_Y = train_data\n",
    "    val_X, val_Y = val_data\n",
    "    test_X, test_Y = test_data    \n",
    "    \n",
    "    return train_X, train_Y, val_X, val_Y, test_X, test_Y"
   ]
  },
  {
   "cell_type": "markdown",
   "metadata": {},
   "source": [
    "# PROGRESS:"
   ]
  },
  {
   "cell_type": "markdown",
   "metadata": {},
   "source": [
    "# I. LEARNING SVM USING LINEAR KERNEL"
   ]
  },
  {
   "cell_type": "code",
   "execution_count": 3,
   "metadata": {
    "collapsed": true
   },
   "outputs": [],
   "source": [
    "\n",
    "\"\"\"\n",
    "    Running SVM using linear kernel with given C value and returns in-sample-error, validation-error and training time\n",
    "    of this model.\n",
    "    Input: C_value (C value)\n",
    "    Output: Ein (in-sample-error), Eval (validation-error), training_time (training time)\n",
    "\"\"\"\n",
    "def run_SVM_linear_kernel(C_value):\n",
    "    \"\"\"\n",
    "        Training SVM using linear kernel with given C value\n",
    "    \"\"\"\n",
    "    start_time_train = timeit.default_timer() # Get training starting time\n",
    "    # Training SVM with C_value\n",
    "    train_clf = svm.SVC(C=C_value, kernel='linear') \n",
    "    train_clf.fit(train_X,train_Y)\n",
    "    training_time = timeit.default_timer() - start_time_train # Compute training time\n",
    "    print \"Training time: \", training_time\n",
    "    \"\"\"\n",
    "        Using trained SVM to predict on training and validation set\n",
    "    \"\"\"\n",
    "    train_Y_comma = train_clf.predict(train_X) # Predict on training set\n",
    "    val_Y_comma = train_clf.predict(val_X) # Predict on validation set\n",
    "    \"\"\"\n",
    "        Evaluate error\n",
    "    \"\"\"\n",
    "    # accuracy_score() method returns accuracy measure so we take 1 - accuracy_score() to get error\n",
    "    Ein = 1 - metrics.accuracy_score(train_Y, train_Y_comma) # Evaluate error on training set\n",
    "    Eval = 1 - metrics.accuracy_score(val_Y, val_Y_comma) # Evaluate error on validation set\n",
    "    \n",
    "    return Ein, Eval, training_time # Return in-sample-error, validation-error and training time"
   ]
  },
  {
   "cell_type": "code",
   "execution_count": 4,
   "metadata": {
    "collapsed": false
   },
   "outputs": [],
   "source": [
    "# Get training, validation, testing data\n",
    "train_X, train_Y, val_X, val_Y, test_X, test_Y = read_mnist('mnist.pkl.gz')"
   ]
  },
  {
   "cell_type": "code",
   "execution_count": null,
   "metadata": {
    "collapsed": true
   },
   "outputs": [],
   "source": [
    "# C = 0.09933\n",
    "running_time = timeit.default_timer()\n",
    "Ein, Eval, training_time = run_SVM_linear_kernel(0.09933)\n",
    "running_time = timeit.default_timer() - running_time\n",
    "print \"Ein = \", Ein\n",
    "print \"Eval = \", Eval\n",
    "print \"Training time = \", training_time\n",
    "print \"Running time = \", running_time"
   ]
  },
  {
   "cell_type": "markdown",
   "metadata": {},
   "source": [
    "### EVALUATE SVM"
   ]
  },
  {
   "cell_type": "code",
   "execution_count": 5,
   "metadata": {
    "collapsed": false
   },
   "outputs": [
    {
     "name": "stdout",
     "output_type": "stream",
     "text": [
      "training Dtrain for final H complete at 365.522110236 seconds\n"
     ]
    }
   ],
   "source": [
    "# C give best perform: C = 0.1 with Eval = 0.0519\n",
    "\n",
    "# Use the merge dataset of Dtrain and Dval to have more data\n",
    "final_train_X = train_X\n",
    "final_train_X = np.vstack([final_train_X,val_X])\n",
    "final_train_Y = train_Y\n",
    "final_train_Y = np.hstack([final_train_Y,val_Y])\n",
    "\n",
    "# Use SVM to get the best model\n",
    "final_start_time_train = timeit.default_timer()\n",
    "final_clf = svm.SVC(C= 0.1, kernel='linear')\n",
    "final_clf.fit(final_train_X,final_train_Y)\n",
    "final_end_time_train = timeit.default_timer() - final_start_time_train\n",
    "\n",
    "#Print Time\n",
    "print 'training Dtrain for final H complete at %s seconds' %(final_end_time_train)"
   ]
  },
  {
   "cell_type": "code",
   "execution_count": 9,
   "metadata": {
    "collapsed": false
   },
   "outputs": [],
   "source": [
    "# Test the final model get from C below by using Dtest:\n",
    "\n",
    "# Predict in Dfinal_train\n",
    "final_Y_comma_train = final_clf.predict(final_train_X)\n",
    "\n",
    "# Predict in Dtest\n",
    "final_Y_comma_test = final_clf.predict(test_X)"
   ]
  },
  {
   "cell_type": "code",
   "execution_count": 10,
   "metadata": {
    "collapsed": false
   },
   "outputs": [
    {
     "name": "stdout",
     "output_type": "stream",
     "text": [
      "Ein =  0.04125\n",
      "Etest =  0.0526\n"
     ]
    }
   ],
   "source": [
    "# Compute Ein of Dfinal_train and Etest of Dtest\n",
    "\n",
    "# Compute Ein of Dfinal_train\n",
    "Ein_final_train = 1 - metrics.accuracy_score(final_train_Y, final_Y_comma_train)\n",
    "\n",
    "# Compute Etest of Dtest\n",
    "Ein_final_test = 1 - metrics.accuracy_score(test_Y, final_Y_comma_test)\n",
    "\n",
    "# Print Result\n",
    "print 'Ein = ',Ein_final_train\n",
    "print 'Etest = ', Ein_final_test"
   ]
  },
  {
   "cell_type": "markdown",
   "metadata": {},
   "source": [
    "# II. LEARNING SVM USING  RBF KERNEL"
   ]
  },
  {
   "cell_type": "code",
   "execution_count": 3,
   "metadata": {
    "collapsed": true
   },
   "outputs": [],
   "source": [
    "\"\"\"\n",
    "    Running SVM using linear kernel with given C value and returns in-sample-error, validation-error and training time\n",
    "    of this model.\n",
    "    Input: C_value (C value)\n",
    "    Output: Ein (in-sample-error), Eval (validation-error), training_time (training time)\n",
    "\"\"\"\n",
    "def run_SVM_linear_kernel(C_value, gamma_value):\n",
    "    \"\"\"\n",
    "        Training SVM using linear kernel with given C value\n",
    "    \"\"\"\n",
    "    start_time_train = timeit.default_timer() # Get training starting time\n",
    "    # Training SVM with C_value\n",
    "    train_clf = svm.SVC(C=C_value, kernel='rbf', gamma = gamma_value) \n",
    "    train_clf.fit(train_X,train_Y)\n",
    "    training_time = timeit.default_timer() - start_time_train # Compute training time\n",
    "    print \"Training time: \", training_time\n",
    "    \"\"\"\n",
    "        Using trained SVM to predict on training and validation set\n",
    "    \"\"\"\n",
    "    train_Y_comma = train_clf.predict(train_X) # Predict on training set\n",
    "    val_Y_comma = train_clf.predict(val_X) # Predict on validation set\n",
    "    \"\"\"\n",
    "        Evaluate error\n",
    "    \"\"\"\n",
    "    # accuracy_score() method returns accuracy measure so we take 1 - accuracy_score() to get error\n",
    "    Ein = 1 - metrics.accuracy_score(train_Y, train_Y_comma) # Evaluate error on training set\n",
    "    Eval = 1 - metrics.accuracy_score(val_Y, val_Y_comma) # Evaluate error on validation set\n",
    "    \n",
    "    return Ein, Eval, training_time # Return in-sample-error, validation-error and training time"
   ]
  },
  {
   "cell_type": "code",
   "execution_count": 4,
   "metadata": {
    "collapsed": false
   },
   "outputs": [
    {
     "name": "stdout",
     "output_type": "stream",
     "text": [
      "Training time:  318.357378342\n",
      "Ein =  0.0\n",
      "Eval =  0.0168\n",
      "Training time =  318.357378342\n",
      "Running time =  1062.42134987\n",
      "Training time:  309.68792565\n",
      "Ein =  0.00058\n",
      "Eval =  0.0165\n",
      "Training time =  309.68792565\n",
      "Running time =  992.006591864\n",
      "Training time:  256.175401578\n",
      "Ein =  0.00942\n",
      "Eval =  0.0282\n",
      "Training time =  256.175401578\n",
      "Running time =  784.20564786\n",
      "Training time:  5024.56140411\n",
      "Ein =  0.88644\n",
      "Eval =  0.8936\n",
      "Training time =  5024.56140411\n",
      "Running time =  8621.04530955\n",
      "Training time:  6291.04425239\n",
      "Ein =  0.88644\n",
      "Eval =  0.8936\n",
      "Training time =  6291.04425239\n",
      "Running time =  9815.5177483\n"
     ]
    }
   ],
   "source": [
    "# Get training, validation, testing data\n",
    "train_X, train_Y, val_X, val_Y, test_X, test_Y = read_mnist('mnist.pkl.gz')\n",
    "\n",
    "# C = 100, gamma = 0.01\n",
    "running_time = timeit.default_timer()\n",
    "Ein, Eval, training_time = run_SVM_linear_kernel(100, 0.01)\n",
    "running_time = timeit.default_timer() - running_time\n",
    "print \"Ein = \", Ein\n",
    "print \"Eval = \", Eval\n",
    "print \"Training time = \", training_time\n",
    "print \"Running time = \", running_time\n",
    "# C = 10, gamma = 0.01\n",
    "running_time = timeit.default_timer()\n",
    "Ein, Eval, training_time = run_SVM_linear_kernel(10, 0.01)\n",
    "running_time = timeit.default_timer() - running_time\n",
    "print \"Ein = \", Ein\n",
    "print \"Eval = \", Eval\n",
    "print \"Training time = \", training_time\n",
    "print \"Running time = \", running_time\n",
    "\n",
    "# C = 100, gamma = 0.001\n",
    "running_time = timeit.default_timer()\n",
    "Ein, Eval, training_time = run_SVM_linear_kernel(100, 0.001)\n",
    "running_time = timeit.default_timer() - running_time\n",
    "print \"Ein = \", Ein\n",
    "print \"Eval = \", Eval\n",
    "print \"Training time = \", training_time\n",
    "print \"Running time = \", running_time\n",
    "\n",
    "# C = 0.0001, gamma = 0.001\n",
    "running_time = timeit.default_timer()\n",
    "Ein, Eval, training_time = run_SVM_linear_kernel(0.0001, 0.001)\n",
    "running_time = timeit.default_timer() - running_time\n",
    "print \"Ein = \", Ein\n",
    "print \"Eval = \", Eval\n",
    "print \"Training time = \", training_time\n",
    "print \"Running time = \", running_time\n",
    "\n",
    "# C = 0.0001, gamma = 0.0001\n",
    "running_time = timeit.default_timer()\n",
    "Ein, Eval, training_time = run_SVM_linear_kernel(0.0001, 0.0001)\n",
    "running_time = timeit.default_timer() - running_time\n",
    "print \"Ein = \", Ein\n",
    "print \"Eval = \", Eval\n",
    "print \"Training time = \", training_time\n",
    "print \"Running time = \", running_time\n"
   ]
  },
  {
   "cell_type": "code",
   "execution_count": 4,
   "metadata": {
    "collapsed": false
   },
   "outputs": [],
   "source": [
    "# Get training, validation, testing data\n",
    "train_X, train_Y, val_X, val_Y, test_X, test_Y = read_mnist('mnist.pkl.gz')"
   ]
  },
  {
   "cell_type": "code",
   "execution_count": 4,
   "metadata": {
    "collapsed": false
   },
   "outputs": [
    {
     "name": "stdout",
     "output_type": "stream",
     "text": [
      "Training time:  280.63619273\n",
      "Ein =  8e-05\n",
      "Eval =  0.0285\n",
      "Training time =  280.63619273\n",
      "Running time =  803.322906835\n",
      "Training time:  272.942583982\n",
      "Ein =  0.00058\n",
      "Eval =  0.0165\n",
      "Training time =  272.942583982\n",
      "Running time =  861.163918203\n"
     ]
    }
   ],
   "source": [
    "# C = 1000, gamma = 0.001\n",
    "running_time = timeit.default_timer()\n",
    "Ein, Eval, training_time = run_SVM_linear_kernel(1000, 0.001)\n",
    "running_time = timeit.default_timer() - running_time\n",
    "print \"Ein = \", Ein\n",
    "print \"Eval = \", Eval\n",
    "print \"Training time = \", training_time\n",
    "print \"Running time = \", running_time\n",
    "# C = 1000, gamma = 0.0001\n",
    "running_time = timeit.default_timer()\n",
    "Ein, Eval, training_time = run_SVM_linear_kernel(10, 0.01)\n",
    "running_time = timeit.default_timer() - running_time\n",
    "print \"Ein = \", Ein\n",
    "print \"Eval = \", Eval\n",
    "print \"Training time = \", training_time\n",
    "print \"Running time = \", running_time"
   ]
  },
  {
   "cell_type": "markdown",
   "metadata": {},
   "source": [
    "### EVALUATE SVM"
   ]
  },
  {
   "cell_type": "code",
   "execution_count": 5,
   "metadata": {
    "collapsed": false
   },
   "outputs": [
    {
     "name": "stdout",
     "output_type": "stream",
     "text": [
      "training Dtrain for final H complete at 309.366999865 seconds\n"
     ]
    }
   ],
   "source": [
    "# C and gamma give best perform: C = 10 & gamma = 0.01 with Eval = 0.0165\n",
    "\n",
    "# Use the merge dataset of Dtrain and Dval to have more data\n",
    "final_train_X = train_X\n",
    "final_train_X = np.vstack([final_train_X,val_X])\n",
    "final_train_Y = train_Y\n",
    "final_train_Y = np.hstack([final_train_Y,val_Y])\n",
    "\n",
    "# Use SVM to get the best model\n",
    "final_start_time_RBF_train = time.time()\n",
    "final_RBF_clf = svm.SVC(C= 10, kernel='rbf', gamma =0.01)\n",
    "final_RBF_clf.fit(train_X,train_Y)\n",
    "final_end_time_RBF_train = time.time() - final_start_time_RBF_train\n",
    "\n",
    "# Print Time\n",
    "print 'training Dtrain for final H complete at %s seconds' %(final_end_time_RBF_train)"
   ]
  },
  {
   "cell_type": "code",
   "execution_count": 9,
   "metadata": {
    "collapsed": false
   },
   "outputs": [],
   "source": [
    "# Test the final model get from C and gamma below by using Dtest:\n",
    "\n",
    "# Predict in Dfinal_train\n",
    "final_RBF_Y_comma_train = final_RBF_clf.predict(final_train_X)\n",
    "\n",
    "# Predict in Dtest\n",
    "final_RBF_Y_comma_test = final_RBF_clf.predict(test_X)"
   ]
  },
  {
   "cell_type": "code",
   "execution_count": 11,
   "metadata": {
    "collapsed": false
   },
   "outputs": [
    {
     "name": "stdout",
     "output_type": "stream",
     "text": [
      " Etest =  0.018\n"
     ]
    }
   ],
   "source": [
    "# Compute Ein of Dfinal_train and Etest of Dtest\n",
    "\n",
    "# Compute Ein of Dfinal_train\n",
    "RBF_Ein_final_train = 1 - metrics.accuracy_score(final_train_Y, final_RBF_Y_comma_train)\n",
    "\n",
    "# Compute Etest of Dtest\n",
    "RBF_Ein_final_test = 1 - metrics.accuracy_score(test_Y, final_RBF_Y_comma_test)\n",
    "\n",
    "# Print Result\n",
    "#print 'Ein = ',Ein_final_train\n",
    "print 'Etest = ', RBF_Ein_final_test"
   ]
  }
 ],
 "metadata": {
  "anaconda-cloud": {},
  "kernelspec": {
   "display_name": "Python [Root]",
   "language": "python",
   "name": "Python [Root]"
  },
  "language_info": {
   "codemirror_mode": {
    "name": "ipython",
    "version": 2
   },
   "file_extension": ".py",
   "mimetype": "text/x-python",
   "name": "python",
   "nbconvert_exporter": "python",
   "pygments_lexer": "ipython2",
   "version": "2.7.12"
  }
 },
 "nbformat": 4,
 "nbformat_minor": 0
}
